{
 "cells": [
  {
   "cell_type": "markdown",
   "id": "4dde91e1-ac51-4176-aa19-c69ae655d263",
   "metadata": {},
   "source": [
    "#1. Import the NUMPY package under the name np."
   ]
  },
  {
   "cell_type": "code",
   "execution_count": 1,
   "id": "60262e57-f957-46a2-8954-939ea964f040",
   "metadata": {},
   "outputs": [],
   "source": [
    "import numpy as np"
   ]
  },
  {
   "cell_type": "markdown",
   "id": "9d368bc3-383b-4bef-bf60-f7c8922b34fb",
   "metadata": {},
   "source": [
    "#2. Print the NUMPY version and the configuration."
   ]
  },
  {
   "cell_type": "code",
   "execution_count": 3,
   "id": "22abd8b4-c934-4a42-8923-b81db01b963e",
   "metadata": {},
   "outputs": [
    {
     "data": {
      "text/plain": [
       "'1.20.1'"
      ]
     },
     "execution_count": 3,
     "metadata": {},
     "output_type": "execute_result"
    }
   ],
   "source": [
    "np.version.version"
   ]
  },
  {
   "cell_type": "markdown",
   "id": "cd7b0ee1-2dd2-4e6b-aea2-49ae36bdd978",
   "metadata": {},
   "source": [
    "#3. Generate a 2x3x5 3-dimensional array with random values. Assign the array to variable \"a\"\n",
    " Challenge: there are at least three easy ways that use numpy to generate random arrays. How many ways can you find?"
   ]
  },
  {
   "cell_type": "code",
   "execution_count": 8,
   "id": "b334c4e7-bbeb-4b73-b1fa-d753ee6ff1b5",
   "metadata": {},
   "outputs": [
    {
     "name": "stdout",
     "output_type": "stream",
     "text": [
      "[[[0.14039069 0.67038614 0.74639556 0.61050403 0.70726088]\n",
      "  [0.12988206 0.24620463 0.24702147 0.68280132 0.84913143]\n",
      "  [0.65439837 0.14510305 0.07778786 0.77629363 0.10122189]]\n",
      "\n",
      " [[0.8636401  0.98631829 0.12144895 0.84676447 0.64598837]\n",
      "  [0.57147804 0.32038862 0.61552639 0.12064098 0.66910318]\n",
      "  [0.95873178 0.68194276 0.51984953 0.53516234 0.20801995]]]\n"
     ]
    }
   ],
   "source": [
    "a = np.random.random((2,3,5))\n",
    "print(a)"
   ]
  },
  {
   "cell_type": "markdown",
   "id": "baf25ec9-629a-42b4-a5e9-a243bfbb2ef1",
   "metadata": {},
   "source": [
    "#4. Print a."
   ]
  },
  {
   "cell_type": "code",
   "execution_count": 10,
   "id": "6fd41527-dc67-4558-9a5b-cefec3b21107",
   "metadata": {},
   "outputs": [
    {
     "name": "stdout",
     "output_type": "stream",
     "text": [
      "[[[2 2 3 8 2]\n",
      "  [7 4 9 2 0]\n",
      "  [6 7 6 0 7]]\n",
      "\n",
      " [[7 9 5 0 1]\n",
      "  [2 2 0 6 4]\n",
      "  [2 1 7 6 6]]]\n"
     ]
    }
   ],
   "source": [
    "a = np.random.randint (10, size= (2,3,5))\n",
    "print(a)"
   ]
  },
  {
   "cell_type": "markdown",
   "id": "1d67411f-5bf0-431e-ace0-a9003582f5a4",
   "metadata": {},
   "source": [
    "#5. Create a 5x2x3 3-dimensional array with all values equaling 1.\n",
    "#Assign the array to variable \"b\""
   ]
  },
  {
   "cell_type": "code",
   "execution_count": 15,
   "id": "42cc4778-383d-48b4-86f1-823be217e13f",
   "metadata": {},
   "outputs": [],
   "source": [
    "b = np.ones((5,2,3))"
   ]
  },
  {
   "cell_type": "markdown",
   "id": "041e81c2-1e26-41b8-9923-0769011708ac",
   "metadata": {},
   "source": [
    "#6. Print b."
   ]
  },
  {
   "cell_type": "code",
   "execution_count": 16,
   "id": "e2a516e3-58e1-4a96-b16f-aafe2ccfb521",
   "metadata": {},
   "outputs": [
    {
     "name": "stdout",
     "output_type": "stream",
     "text": [
      "[[[1. 1. 1.]\n",
      "  [1. 1. 1.]]\n",
      "\n",
      " [[1. 1. 1.]\n",
      "  [1. 1. 1.]]\n",
      "\n",
      " [[1. 1. 1.]\n",
      "  [1. 1. 1.]]\n",
      "\n",
      " [[1. 1. 1.]\n",
      "  [1. 1. 1.]]\n",
      "\n",
      " [[1. 1. 1.]\n",
      "  [1. 1. 1.]]]\n"
     ]
    }
   ],
   "source": [
    "print (b)"
   ]
  },
  {
   "cell_type": "markdown",
   "id": "47600ffa-7151-42ca-8d65-8f35dd5f24e1",
   "metadata": {},
   "source": [
    "#7. Do a and b have the same size? How do you prove that in Python code?"
   ]
  },
  {
   "cell_type": "code",
   "execution_count": 19,
   "id": "379b245c-1d17-41b8-ab49-6659b7500376",
   "metadata": {},
   "outputs": [
    {
     "name": "stdout",
     "output_type": "stream",
     "text": [
      "True\n"
     ]
    }
   ],
   "source": [
    "print(a.size == b.size)"
   ]
  },
  {
   "cell_type": "markdown",
   "id": "cc5f55e7-92f8-4a45-9605-38802fc969d2",
   "metadata": {},
   "source": [
    "#8. Are you able to add a and b? Why or why not?"
   ]
  },
  {
   "cell_type": "code",
   "execution_count": null,
   "id": "7c917f86-340b-40bd-ae4c-f34ec4b46d23",
   "metadata": {},
   "outputs": [],
   "source": []
  },
  {
   "cell_type": "markdown",
   "id": "ab5cfcd2-69d5-4c7c-aecc-ac6747a05f33",
   "metadata": {},
   "source": [
    "#9. Transpose b so that it has the same structure of a (i.e. become a 2x3x5 array). Assign the transposed array to varialbe \"c\"."
   ]
  },
  {
   "cell_type": "code",
   "execution_count": null,
   "id": "3d070b44-0c23-4ee2-9678-ff5528aad538",
   "metadata": {},
   "outputs": [],
   "source": []
  },
  {
   "cell_type": "markdown",
   "id": "2b3cbf90-6a97-415d-9985-1642e10c3c29",
   "metadata": {},
   "source": [
    "#10. Try to add a and c. Now it should work. Assign the sum to varialbe \"d\". But why does it work now?"
   ]
  },
  {
   "cell_type": "code",
   "execution_count": null,
   "id": "9cd16093-84f7-448f-a75c-4843061210da",
   "metadata": {},
   "outputs": [],
   "source": []
  },
  {
   "cell_type": "markdown",
   "id": "b968ba7a-2927-434f-bcb9-f18920f57139",
   "metadata": {},
   "source": [
    "#11. Print a and d. Notice the difference and relation of the two array in terms of the values? Explain."
   ]
  },
  {
   "cell_type": "code",
   "execution_count": null,
   "id": "5b132f24-b8b1-4846-ad02-f9c290270fb4",
   "metadata": {},
   "outputs": [],
   "source": []
  },
  {
   "cell_type": "markdown",
   "id": "5a2fb751-762b-477f-a036-9d83a6593e61",
   "metadata": {},
   "source": [
    "#12. Multiply a and c. Assign the result to e."
   ]
  },
  {
   "cell_type": "code",
   "execution_count": null,
   "id": "7073f4cc-7545-4a2e-8b56-6ee7aa8a59d1",
   "metadata": {},
   "outputs": [],
   "source": []
  },
  {
   "cell_type": "markdown",
   "id": "91cd00c8-5676-4708-a201-5e63806af592",
   "metadata": {},
   "source": [
    "#13. Does e equal to a? Why or why not?"
   ]
  },
  {
   "cell_type": "code",
   "execution_count": null,
   "id": "ddc859ca-6ff2-44c0-91a4-460615d1eb43",
   "metadata": {},
   "outputs": [],
   "source": []
  },
  {
   "cell_type": "markdown",
   "id": "25c05866-61b4-4716-a422-810e48aba824",
   "metadata": {},
   "source": [
    "#14. Identify the max, min, and mean values in d. Assign those values to variables \"d_max\", \"d_min\", and \"d_mean\""
   ]
  },
  {
   "cell_type": "code",
   "execution_count": null,
   "id": "7852156d-c086-4351-bba6-9e70e1e37c28",
   "metadata": {},
   "outputs": [],
   "source": []
  },
  {
   "cell_type": "markdown",
   "id": "2b5cc2a6-ed9c-4f20-8598-5890cf5d0a68",
   "metadata": {},
   "source": [
    "#15. Now we want to label the values in d. First create an empty array \"f\" with the same shape (i.e. 2x3x5) as d using `np.empty`.\n"
   ]
  },
  {
   "cell_type": "code",
   "execution_count": null,
   "id": "daa2b6bb-4f58-4175-99d7-641ead937d5f",
   "metadata": {},
   "outputs": [],
   "source": []
  },
  {
   "cell_type": "markdown",
   "id": "5d065046-ae24-47e5-ab99-77c629ea1b8b",
   "metadata": {},
   "source": [
    "'''\n",
    "#16. Populate the values in f. For each value in d, if it's larger than d_min but smaller than d_mean, assign 25 to the corresponding value in f.\n",
    "If a value in d is larger than d_mean but smaller than d_max, assign 75 to the corresponding value in f.\n",
    "If a value equals to d_mean, assign 50 to the corresponding value in f.\n",
    "Assign 0 to the corresponding value(s) in f for d_min in d.\n",
    "Assign 100 to the corresponding value(s) in f for d_max in d.\n",
    "In the end, f should have only the following values: 0, 25, 50, 75, and 100.\n",
    "Note: you don't have to use Numpy in this question.\n",
    "'''"
   ]
  },
  {
   "cell_type": "code",
   "execution_count": null,
   "id": "3bafd577-6fcc-41f5-806d-a5d2d80fd79a",
   "metadata": {},
   "outputs": [],
   "source": []
  },
  {
   "cell_type": "markdown",
   "id": "6da81c92-d680-473a-9852-6bff02e8c7ba",
   "metadata": {},
   "source": [
    "\"\"\"\n",
    "#17. Print d and f. Do you have your expected f?\n",
    "For instance, if your d is:\n",
    "array([[[1.85836099, 1.67064465, 1.62576044, 1.40243961, 1.88454931],\n",
    "        [1.75354326, 1.69403643, 1.36729252, 1.61415071, 1.12104981],\n",
    "        [1.72201435, 1.1862918 , 1.87078449, 1.7726778 , 1.88180042]],\n",
    "\n",
    "       [[1.44747908, 1.31673383, 1.02000951, 1.52218947, 1.97066381],\n",
    "        [1.79129243, 1.74983003, 1.96028037, 1.85166831, 1.65450881],\n",
    "        [1.18068344, 1.9587381 , 1.00656599, 1.93402165, 1.73514584]]])\n",
    "\n",
    "Your f should be:\n",
    "array([[[ 75.,  75.,  75.,  25.,  75.],\n",
    "        [ 75.,  75.,  25.,  25.,  25.],\n",
    "        [ 75.,  25.,  75.,  75.,  75.]],\n",
    "\n",
    "       [[ 25.,  25.,  25.,  25., 100.],\n",
    "        [ 75.,  75.,  75.,  75.,  75.],\n",
    "        [ 25.,  75.,   0.,  75.,  75.]]])\n",
    "\"\"\""
   ]
  },
  {
   "cell_type": "code",
   "execution_count": null,
   "id": "96cacbe7-2182-4aab-b9c3-637933d14e24",
   "metadata": {},
   "outputs": [],
   "source": []
  },
  {
   "cell_type": "markdown",
   "id": "0dff2d3c-b0b2-4763-aeb0-242459f37dd2",
   "metadata": {},
   "source": [
    "\"\"\"\n",
    "#18. Bonus question: instead of using numbers (i.e. 0, 25, 50, 75, and 100), how to use string values \n",
    "(\"A\", \"B\", \"C\", \"D\", and \"E\") to label the array elements? You are expecting the result to be:\n",
    "array([[[ 'D',  'D',  'D',  'B',  'D'],\n",
    "        [ 'D',  'D',  'B',  'B',  'B'],\n",
    "        [ 'D',  'B',  'D',  'D',  'D']],\n",
    "\n",
    "       [[ 'B',  'B',  'B',  'B',  'E'],\n",
    "        [ 'D',  'D',  'D',  'D',  'D'],\n",
    "        [ 'B',  'D',   'A',  'D', 'D']]])\n",
    "Again, you don't need Numpy in this question.\n",
    "\"\"\""
   ]
  },
  {
   "cell_type": "code",
   "execution_count": null,
   "id": "684e6985-e5e9-48bd-8503-463f32b23337",
   "metadata": {},
   "outputs": [],
   "source": []
  },
  {
   "cell_type": "code",
   "execution_count": 5,
   "id": "a41bc940-90bd-4920-88c5-3f748949d034",
   "metadata": {},
   "outputs": [
    {
     "name": "stdout",
     "output_type": "stream",
     "text": [
      "[[[[0.74298572 0.86069451 0.05067611 0.9685526  0.42931796]\n",
      "   [0.11722904 0.5025668  0.5665914  0.53678985 0.49013743]\n",
      "   [0.07776434 0.34443678 0.88643395 0.5019518  0.12204321]\n",
      "   [0.67066468 0.48599693 0.34657325 0.82873419 0.77905188]]\n",
      "\n",
      "  [[0.40155363 0.75972154 0.80437732 0.77840594 0.33991786]\n",
      "   [0.75308758 0.96667083 0.6636005  0.03977358 0.75034994]\n",
      "   [0.40761955 0.66270709 0.6556609  0.15961696 0.25386861]\n",
      "   [0.95838781 0.13924881 0.04055445 0.51540046 0.87655288]]\n",
      "\n",
      "  [[0.08134801 0.09383238 0.03968261 0.77739007 0.58446058]\n",
      "   [0.1130352  0.31580015 0.70023698 0.80992679 0.13886264]\n",
      "   [0.89569112 0.28677662 0.22652829 0.16102978 0.84960077]\n",
      "   [0.09843737 0.84152515 0.96440756 0.47945805 0.56194212]]]\n",
      "\n",
      "\n",
      " [[[0.57812186 0.16884083 0.57681428 0.13217877 0.52142518]\n",
      "   [0.21679362 0.38822889 0.29372464 0.09666553 0.86729855]\n",
      "   [0.85338016 0.97672363 0.75005506 0.41587644 0.82574288]\n",
      "   [0.60593968 0.12399849 0.79552643 0.10103046 0.08585739]]\n",
      "\n",
      "  [[0.26925361 0.51536168 0.40907294 0.84926575 0.3159428 ]\n",
      "   [0.27742612 0.87253733 0.71597182 0.63649217 0.77290283]\n",
      "   [0.44134127 0.55373789 0.13480465 0.97790826 0.65563265]\n",
      "   [0.83248222 0.19935219 0.00227843 0.46301405 0.34462457]]\n",
      "\n",
      "  [[0.46423245 0.5275102  0.44935412 0.71200124 0.96644409]\n",
      "   [0.9328603  0.76949131 0.38730457 0.21897761 0.13479972]\n",
      "   [0.77514163 0.40319207 0.36876557 0.16369548 0.18100491]\n",
      "   [0.2609297  0.708208   0.32491495 0.07702146 0.86977989]]]]\n"
     ]
    }
   ],
   "source": [
    "c = np.random.random((2,3,4,5))\n",
    "print(c)"
   ]
  }
 ],
 "metadata": {
  "kernelspec": {
   "display_name": "Python 3",
   "language": "python",
   "name": "python3"
  },
  "language_info": {
   "codemirror_mode": {
    "name": "ipython",
    "version": 3
   },
   "file_extension": ".py",
   "mimetype": "text/x-python",
   "name": "python",
   "nbconvert_exporter": "python",
   "pygments_lexer": "ipython3",
   "version": "3.8.8"
  }
 },
 "nbformat": 4,
 "nbformat_minor": 5
}
