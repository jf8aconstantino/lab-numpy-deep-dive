{
 "cells": [
  {
   "cell_type": "markdown",
   "id": "4dde91e1-ac51-4176-aa19-c69ae655d263",
   "metadata": {},
   "source": [
    "#1. Import the NUMPY package under the name np."
   ]
  },
  {
   "cell_type": "code",
   "execution_count": 36,
   "id": "60262e57-f957-46a2-8954-939ea964f040",
   "metadata": {},
   "outputs": [],
   "source": [
    "import numpy as np"
   ]
  },
  {
   "cell_type": "markdown",
   "id": "9d368bc3-383b-4bef-bf60-f7c8922b34fb",
   "metadata": {},
   "source": [
    "#2. Print the NUMPY version and the configuration."
   ]
  },
  {
   "cell_type": "code",
   "execution_count": 37,
   "id": "22abd8b4-c934-4a42-8923-b81db01b963e",
   "metadata": {},
   "outputs": [
    {
     "data": {
      "text/plain": [
       "'1.20.1'"
      ]
     },
     "execution_count": 37,
     "metadata": {},
     "output_type": "execute_result"
    }
   ],
   "source": [
    "np.version.version"
   ]
  },
  {
   "cell_type": "markdown",
   "id": "cd7b0ee1-2dd2-4e6b-aea2-49ae36bdd978",
   "metadata": {},
   "source": [
    "#3. Generate a 2x3x5 3-dimensional array with random values. Assign the array to variable \"a\"\n",
    " Challenge: there are at least three easy ways that use numpy to generate random arrays. How many ways can you find?"
   ]
  },
  {
   "cell_type": "code",
   "execution_count": 38,
   "id": "b334c4e7-bbeb-4b73-b1fa-d753ee6ff1b5",
   "metadata": {},
   "outputs": [
    {
     "name": "stdout",
     "output_type": "stream",
     "text": [
      "[[[0.62696615 0.63101608 0.51157846 0.85215555 0.92122839]\n",
      "  [0.02675655 0.72492551 0.80928054 0.86332334 0.19583686]\n",
      "  [0.97551893 0.9795078  0.86571273 0.88978078 0.22357953]]\n",
      "\n",
      " [[0.20536217 0.32854503 0.34224861 0.07830483 0.95512576]\n",
      "  [0.20567284 0.03183314 0.86920231 0.26489363 0.95360541]\n",
      "  [0.80522509 0.21950665 0.36875376 0.32436492 0.10301446]]]\n"
     ]
    }
   ],
   "source": [
    "a = np.random.random((2,3,5))\n",
    "print(a)"
   ]
  },
  {
   "cell_type": "markdown",
   "id": "baf25ec9-629a-42b4-a5e9-a243bfbb2ef1",
   "metadata": {},
   "source": [
    "#4. Print a."
   ]
  },
  {
   "cell_type": "code",
   "execution_count": 91,
   "id": "6fd41527-dc67-4558-9a5b-cefec3b21107",
   "metadata": {},
   "outputs": [
    {
     "name": "stdout",
     "output_type": "stream",
     "text": [
      "[[[5 5 0 9 0]\n",
      "  [4 1 6 2 3]\n",
      "  [5 3 5 4 7]]\n",
      "\n",
      " [[1 0 6 4 1]\n",
      "  [8 7 5 1 2]\n",
      "  [5 2 5 0 4]]]\n"
     ]
    }
   ],
   "source": [
    "a = np.random.randint (10, size= (2,3,5))\n",
    "print(a)\n"
   ]
  },
  {
   "cell_type": "code",
   "execution_count": 68,
   "id": "8a60d073-e12c-43a6-be06-7a328433c940",
   "metadata": {},
   "outputs": [
    {
     "data": {
      "text/plain": [
       "dtype('int32')"
      ]
     },
     "execution_count": 68,
     "metadata": {},
     "output_type": "execute_result"
    }
   ],
   "source": [
    "a.dtype"
   ]
  },
  {
   "cell_type": "markdown",
   "id": "1d67411f-5bf0-431e-ace0-a9003582f5a4",
   "metadata": {},
   "source": [
    "#5. Create a 5x2x3 3-dimensional array with all values equaling 1.\n",
    "#Assign the array to variable \"b\""
   ]
  },
  {
   "cell_type": "code",
   "execution_count": 40,
   "id": "42cc4778-383d-48b4-86f1-823be217e13f",
   "metadata": {},
   "outputs": [],
   "source": [
    "b = np.ones((5,2,3))"
   ]
  },
  {
   "cell_type": "markdown",
   "id": "041e81c2-1e26-41b8-9923-0769011708ac",
   "metadata": {},
   "source": [
    "#6. Print b."
   ]
  },
  {
   "cell_type": "code",
   "execution_count": 56,
   "id": "e2a516e3-58e1-4a96-b16f-aafe2ccfb521",
   "metadata": {},
   "outputs": [
    {
     "name": "stdout",
     "output_type": "stream",
     "text": [
      "[[[1. 1. 1.]\n",
      "  [1. 1. 1.]]\n",
      "\n",
      " [[1. 1. 1.]\n",
      "  [1. 1. 1.]]\n",
      "\n",
      " [[1. 1. 1.]\n",
      "  [1. 1. 1.]]\n",
      "\n",
      " [[1. 1. 1.]\n",
      "  [1. 1. 1.]]\n",
      "\n",
      " [[1. 1. 1.]\n",
      "  [1. 1. 1.]]]\n",
      "<class 'numpy.ndarray'>\n"
     ]
    }
   ],
   "source": [
    "print (b)\n",
    "print(type(b))"
   ]
  },
  {
   "cell_type": "markdown",
   "id": "47600ffa-7151-42ca-8d65-8f35dd5f24e1",
   "metadata": {},
   "source": [
    "#7. Do a and b have the same size? How do you prove that in Python code?"
   ]
  },
  {
   "cell_type": "code",
   "execution_count": 42,
   "id": "379b245c-1d17-41b8-ab49-6659b7500376",
   "metadata": {},
   "outputs": [
    {
     "name": "stdout",
     "output_type": "stream",
     "text": [
      "True\n"
     ]
    }
   ],
   "source": [
    "print(a.size == b.size)"
   ]
  },
  {
   "cell_type": "markdown",
   "id": "cc5f55e7-92f8-4a45-9605-38802fc969d2",
   "metadata": {},
   "source": [
    "#8. Are you able to add a and b? Why or why not?"
   ]
  },
  {
   "cell_type": "code",
   "execution_count": 43,
   "id": "7c917f86-340b-40bd-ae4c-f34ec4b46d23",
   "metadata": {},
   "outputs": [
    {
     "ename": "ValueError",
     "evalue": "operands could not be broadcast together with shapes (2,3,5) (5,2,3) ",
     "output_type": "error",
     "traceback": [
      "\u001b[1;31m---------------------------------------------------------------------------\u001b[0m",
      "\u001b[1;31mValueError\u001b[0m                                Traceback (most recent call last)",
      "\u001b[1;32m<ipython-input-43-bd8b4d4554c9>\u001b[0m in \u001b[0;36m<module>\u001b[1;34m\u001b[0m\n\u001b[1;32m----> 1\u001b[1;33m \u001b[0marraysab\u001b[0m \u001b[1;33m=\u001b[0m \u001b[0mnp\u001b[0m\u001b[1;33m.\u001b[0m\u001b[0madd\u001b[0m\u001b[1;33m(\u001b[0m\u001b[0ma\u001b[0m\u001b[1;33m,\u001b[0m \u001b[0mb\u001b[0m\u001b[1;33m)\u001b[0m\u001b[1;33m\u001b[0m\u001b[1;33m\u001b[0m\u001b[0m\n\u001b[0m",
      "\u001b[1;31mValueError\u001b[0m: operands could not be broadcast together with shapes (2,3,5) (5,2,3) "
     ]
    }
   ],
   "source": [
    "arraysab = np.add(a, b)"
   ]
  },
  {
   "cell_type": "markdown",
   "id": "ab5cfcd2-69d5-4c7c-aecc-ac6747a05f33",
   "metadata": {},
   "source": [
    "#9. Transpose b so that it has the same structure of a (i.e. become a 2x3x5 array). Assign the transposed array to varialbe \"c\"."
   ]
  },
  {
   "cell_type": "code",
   "execution_count": 57,
   "id": "3d070b44-0c23-4ee2-9678-ff5528aad538",
   "metadata": {},
   "outputs": [],
   "source": [
    "c = np.transpose(b,[1,2,0])\n"
   ]
  },
  {
   "cell_type": "code",
   "execution_count": 58,
   "id": "a5422c62-20e7-4881-9067-c940cbd38f27",
   "metadata": {},
   "outputs": [
    {
     "name": "stdout",
     "output_type": "stream",
     "text": [
      "[[[1. 1. 1. 1. 1.]\n",
      "  [1. 1. 1. 1. 1.]\n",
      "  [1. 1. 1. 1. 1.]]\n",
      "\n",
      " [[1. 1. 1. 1. 1.]\n",
      "  [1. 1. 1. 1. 1.]\n",
      "  [1. 1. 1. 1. 1.]]]\n",
      "<class 'numpy.ndarray'>\n"
     ]
    }
   ],
   "source": [
    "print(c)\n",
    "print(type(c))"
   ]
  },
  {
   "cell_type": "markdown",
   "id": "2b3cbf90-6a97-415d-9985-1642e10c3c29",
   "metadata": {},
   "source": [
    "#10. Try to add a and c. Now it should work. Assign the sum to varialbe \"d\". But why does it work now?"
   ]
  },
  {
   "cell_type": "code",
   "execution_count": 61,
   "id": "9cd16093-84f7-448f-a75c-4843061210da",
   "metadata": {},
   "outputs": [],
   "source": [
    "d =np.add(a,c) # it works due that both arrays are the same shape"
   ]
  },
  {
   "cell_type": "code",
   "execution_count": 96,
   "id": "d8b918cc-0cf0-4f13-a84b-cdbf0c15a079",
   "metadata": {},
   "outputs": [
    {
     "data": {
      "text/plain": [
       "dtype('float64')"
      ]
     },
     "execution_count": 96,
     "metadata": {},
     "output_type": "execute_result"
    }
   ],
   "source": [
    "d.dtype"
   ]
  },
  {
   "cell_type": "markdown",
   "id": "b968ba7a-2927-434f-bcb9-f18920f57139",
   "metadata": {},
   "source": [
    "#11. Print a and d. Notice the difference and relation of the two array in terms of the values? Explain."
   ]
  },
  {
   "cell_type": "code",
   "execution_count": 72,
   "id": "5b132f24-b8b1-4846-ad02-f9c290270fb4",
   "metadata": {},
   "outputs": [
    {
     "name": "stdout",
     "output_type": "stream",
     "text": [
      "A\n",
      "[[[3 5 0 1 9]\n",
      "  [7 7 1 5 7]\n",
      "  [9 3 0 7 5]]\n",
      "\n",
      " [[1 3 8 7 8]\n",
      "  [0 9 9 0 8]\n",
      "  [9 1 5 5 8]]]\n",
      "D\n",
      "[[[ 3.  7.  1.  5.  6.]\n",
      "  [ 4.  1.  6.  1.  1.]\n",
      "  [ 4.  3.  2. 10.  3.]]\n",
      "\n",
      " [[ 7.  3.  7. 10.  6.]\n",
      "  [ 1.  8.  3.  1.  2.]\n",
      "  [ 3.  7.  5. 10.  1.]]]\n"
     ]
    }
   ],
   "source": [
    "print('A')\n",
    "print(a)\n",
    "print('D')\n",
    "print(d)\n",
    "\n",
    "# the difference is that A is equal to ('int32') while d is equal to ('float64')"
   ]
  },
  {
   "cell_type": "markdown",
   "id": "5a2fb751-762b-477f-a036-9d83a6593e61",
   "metadata": {},
   "source": [
    "#12. Multiply a and c. Assign the result to e."
   ]
  },
  {
   "cell_type": "code",
   "execution_count": 73,
   "id": "7073f4cc-7545-4a2e-8b56-6ee7aa8a59d1",
   "metadata": {},
   "outputs": [],
   "source": [
    "e = a * c"
   ]
  },
  {
   "cell_type": "code",
   "execution_count": 74,
   "id": "523fe06e-a6d8-4124-bef4-29c751b13c0c",
   "metadata": {},
   "outputs": [
    {
     "data": {
      "text/plain": [
       "array([[[3., 5., 0., 1., 9.],\n",
       "        [7., 7., 1., 5., 7.],\n",
       "        [9., 3., 0., 7., 5.]],\n",
       "\n",
       "       [[1., 3., 8., 7., 8.],\n",
       "        [0., 9., 9., 0., 8.],\n",
       "        [9., 1., 5., 5., 8.]]])"
      ]
     },
     "execution_count": 74,
     "metadata": {},
     "output_type": "execute_result"
    }
   ],
   "source": [
    "e"
   ]
  },
  {
   "cell_type": "markdown",
   "id": "91cd00c8-5676-4708-a201-5e63806af592",
   "metadata": {},
   "source": [
    "#13. Does e equal to a? Why or why not?"
   ]
  },
  {
   "cell_type": "code",
   "execution_count": 75,
   "id": "ddc859ca-6ff2-44c0-91a4-460615d1eb43",
   "metadata": {},
   "outputs": [
    {
     "data": {
      "text/plain": [
       "array([[[ True,  True,  True,  True,  True],\n",
       "        [ True,  True,  True,  True,  True],\n",
       "        [ True,  True,  True,  True,  True]],\n",
       "\n",
       "       [[ True,  True,  True,  True,  True],\n",
       "        [ True,  True,  True,  True,  True],\n",
       "        [ True,  True,  True,  True,  True]]])"
      ]
     },
     "execution_count": 75,
     "metadata": {},
     "output_type": "execute_result"
    }
   ],
   "source": [
    "e == a"
   ]
  },
  {
   "cell_type": "markdown",
   "id": "25c05866-61b4-4716-a422-810e48aba824",
   "metadata": {},
   "source": [
    "#14. Identify the max, min, and mean values in d. Assign those values to variables \"d_max\", \"d_min\", and \"d_mean\""
   ]
  },
  {
   "cell_type": "code",
   "execution_count": 84,
   "id": "7852156d-c086-4351-bba6-9e70e1e37c28",
   "metadata": {},
   "outputs": [
    {
     "data": {
      "text/plain": [
       "1.0"
      ]
     },
     "execution_count": 84,
     "metadata": {},
     "output_type": "execute_result"
    }
   ],
   "source": [
    "d_min = d.min()\n",
    "d_min"
   ]
  },
  {
   "cell_type": "code",
   "execution_count": 85,
   "id": "723167a5-22dc-400a-ac8e-0ddc5c7aa676",
   "metadata": {},
   "outputs": [
    {
     "data": {
      "text/plain": [
       "10.0"
      ]
     },
     "execution_count": 85,
     "metadata": {},
     "output_type": "execute_result"
    }
   ],
   "source": [
    "d_max = d.max()\n",
    "d_max"
   ]
  },
  {
   "cell_type": "code",
   "execution_count": 86,
   "id": "d0249bc1-536c-4fb1-b9af-1a96f7f981ff",
   "metadata": {},
   "outputs": [
    {
     "data": {
      "text/plain": [
       "4.366666666666666"
      ]
     },
     "execution_count": 86,
     "metadata": {},
     "output_type": "execute_result"
    }
   ],
   "source": [
    "d_mean = d.mean()\n",
    "d_mean"
   ]
  },
  {
   "cell_type": "markdown",
   "id": "2b5cc2a6-ed9c-4f20-8598-5890cf5d0a68",
   "metadata": {},
   "source": [
    "#15. Now we want to label the values in d. First create an empty array \"f\" with the same shape (i.e. 2x3x5) as d using `np.empty`.\n"
   ]
  },
  {
   "cell_type": "code",
   "execution_count": 98,
   "id": "daa2b6bb-4f58-4175-99d7-641ead937d5f",
   "metadata": {},
   "outputs": [
    {
     "data": {
      "text/plain": [
       "array([[[3., 5., 0., 1., 9.],\n",
       "        [7., 7., 1., 5., 7.],\n",
       "        [9., 3., 0., 7., 5.]],\n",
       "\n",
       "       [[1., 3., 8., 7., 8.],\n",
       "        [0., 9., 9., 0., 8.],\n",
       "        [9., 1., 5., 5., 8.]]])"
      ]
     },
     "execution_count": 98,
     "metadata": {},
     "output_type": "execute_result"
    }
   ],
   "source": [
    "f = np.empty((2,3,5), dtype='float64')\n",
    "f"
   ]
  },
  {
   "cell_type": "markdown",
   "id": "5d065046-ae24-47e5-ab99-77c629ea1b8b",
   "metadata": {},
   "source": [
    "'''\n",
    "#16. Populate the values in f. For each value in d, if it's larger than d_min but smaller than d_mean, assign 25 to the corresponding value in f.\n",
    "If a value in d is larger than d_mean but smaller than d_max, assign 75 to the corresponding value in f.\n",
    "If a value equals to d_mean, assign 50 to the corresponding value in f.\n",
    "Assign 0 to the corresponding value(s) in f for d_min in d.\n",
    "Assign 100 to the corresponding value(s) in f for d_max in d.\n",
    "In the end, f should have only the following values: 0, 25, 50, 75, and 100.\n",
    "Note: you don't have to use Numpy in this question.\n",
    "'''"
   ]
  },
  {
   "cell_type": "code",
   "execution_count": 100,
   "id": "3bafd577-6fcc-41f5-806d-a5d2d80fd79a",
   "metadata": {},
   "outputs": [],
   "source": []
  },
  {
   "cell_type": "markdown",
   "id": "6da81c92-d680-473a-9852-6bff02e8c7ba",
   "metadata": {},
   "source": [
    "\"\"\"\n",
    "#17. Print d and f. Do you have your expected f?\n",
    "For instance, if your d is:\n",
    "array([[[1.85836099, 1.67064465, 1.62576044, 1.40243961, 1.88454931],\n",
    "        [1.75354326, 1.69403643, 1.36729252, 1.61415071, 1.12104981],\n",
    "        [1.72201435, 1.1862918 , 1.87078449, 1.7726778 , 1.88180042]],\n",
    "\n",
    "       [[1.44747908, 1.31673383, 1.02000951, 1.52218947, 1.97066381],\n",
    "        [1.79129243, 1.74983003, 1.96028037, 1.85166831, 1.65450881],\n",
    "        [1.18068344, 1.9587381 , 1.00656599, 1.93402165, 1.73514584]]])\n",
    "\n",
    "Your f should be:\n",
    "array([[[ 75.,  75.,  75.,  25.,  75.],\n",
    "        [ 75.,  75.,  25.,  25.,  25.],\n",
    "        [ 75.,  25.,  75.,  75.,  75.]],\n",
    "\n",
    "       [[ 25.,  25.,  25.,  25., 100.],\n",
    "        [ 75.,  75.,  75.,  75.,  75.],\n",
    "        [ 25.,  75.,   0.,  75.,  75.]]])\n",
    "\"\"\""
   ]
  },
  {
   "cell_type": "code",
   "execution_count": null,
   "id": "96cacbe7-2182-4aab-b9c3-637933d14e24",
   "metadata": {},
   "outputs": [],
   "source": []
  },
  {
   "cell_type": "markdown",
   "id": "0dff2d3c-b0b2-4763-aeb0-242459f37dd2",
   "metadata": {},
   "source": [
    "\"\"\"\n",
    "#18. Bonus question: instead of using numbers (i.e. 0, 25, 50, 75, and 100), how to use string values \n",
    "(\"A\", \"B\", \"C\", \"D\", and \"E\") to label the array elements? You are expecting the result to be:\n",
    "array([[[ 'D',  'D',  'D',  'B',  'D'],\n",
    "        [ 'D',  'D',  'B',  'B',  'B'],\n",
    "        [ 'D',  'B',  'D',  'D',  'D']],\n",
    "\n",
    "       [[ 'B',  'B',  'B',  'B',  'E'],\n",
    "        [ 'D',  'D',  'D',  'D',  'D'],\n",
    "        [ 'B',  'D',   'A',  'D', 'D']]])\n",
    "Again, you don't need Numpy in this question.\n",
    "\"\"\""
   ]
  },
  {
   "cell_type": "code",
   "execution_count": null,
   "id": "684e6985-e5e9-48bd-8503-463f32b23337",
   "metadata": {},
   "outputs": [],
   "source": []
  },
  {
   "cell_type": "code",
   "execution_count": null,
   "id": "a41bc940-90bd-4920-88c5-3f748949d034",
   "metadata": {},
   "outputs": [],
   "source": []
  }
 ],
 "metadata": {
  "kernelspec": {
   "display_name": "Python 3",
   "language": "python",
   "name": "python3"
  },
  "language_info": {
   "codemirror_mode": {
    "name": "ipython",
    "version": 3
   },
   "file_extension": ".py",
   "mimetype": "text/x-python",
   "name": "python",
   "nbconvert_exporter": "python",
   "pygments_lexer": "ipython3",
   "version": "3.8.8"
  }
 },
 "nbformat": 4,
 "nbformat_minor": 5
}
